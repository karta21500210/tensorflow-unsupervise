{
 "cells": [
  {
   "cell_type": "code",
   "execution_count": 1,
   "id": "b000fef2",
   "metadata": {},
   "outputs": [],
   "source": [
    "import numpy\n",
    "import tensorflow as tf\n",
    "import matplotlib.pyplot as plot"
   ]
  },
  {
   "cell_type": "markdown",
   "id": "0d2dfa95-73b3-428b-b2d8-c6e89b67e7ca",
   "metadata": {},
   "source": [
    "下載mnist dataset"
   ]
  },
  {
   "cell_type": "code",
   "execution_count": 49,
   "id": "e5687645",
   "metadata": {},
   "outputs": [],
   "source": [
    "data = tf.keras.datasets.mnist.load_data()"
   ]
  },
  {
   "cell_type": "code",
   "execution_count": 50,
   "id": "355de02e",
   "metadata": {},
   "outputs": [],
   "source": [
    "(x_train, y_train), (x_test, y_test) = data"
   ]
  },
  {
   "cell_type": "markdown",
   "id": "7bbd45a3-a863-4ed2-9f38-5ebc5bbdb191",
   "metadata": {},
   "source": [
    "正規化"
   ]
  },
  {
   "cell_type": "code",
   "execution_count": 51,
   "id": "dd518e29",
   "metadata": {},
   "outputs": [],
   "source": [
    "x_train = numpy.float32(x_train/ 255.0)\n",
    "y_train = numpy.float32(y_train)\n",
    "x_test = numpy.float32(x_test/ 255.0)\n",
    "y_test = numpy.float32(y_test)\n",
    "x_train = x_train.reshape(-1,28,28,1)\n",
    "x_test = x_test.reshape(-1,28,28,1)\n",
    "y_train = y_train.reshape(-1,1)\n",
    "y_test = y_test.reshape(-1,1)"
   ]
  },
  {
   "cell_type": "code",
   "execution_count": 52,
   "id": "3574e0ad",
   "metadata": {},
   "outputs": [
    {
     "data": {
      "text/plain": [
       "(60000, 28, 28, 1)"
      ]
     },
     "execution_count": 52,
     "metadata": {},
     "output_type": "execute_result"
    }
   ],
   "source": [
    "x_train.shape"
   ]
  },
  {
   "cell_type": "code",
   "execution_count": 6,
   "id": "ef669e69",
   "metadata": {},
   "outputs": [
    {
     "data": {
      "text/plain": [
       "<matplotlib.image.AxesImage at 0x26332a39208>"
      ]
     },
     "execution_count": 6,
     "metadata": {},
     "output_type": "execute_result"
    },
    {
     "data": {
      "image/png": "[encoded data removed]",
      "text/plain": [
       "<Figure size 432x288 with 1 Axes>"
      ]
     },
     "metadata": {
      "needs_background": "light"
     },
     "output_type": "display_data"
    }
   ],
   "source": [
    "plot.imshow(x_train[0])"
   ]
  },
  {
   "cell_type": "code",
   "execution_count": 108,
   "id": "2ae6d8b6",
   "metadata": {},
   "outputs": [],
   "source": [
    "# Decoder\n",
    "input_ = tf.keras.layers.Input(shape=(28,28,1))\n",
    "layer_1 = tf.keras.layers.Conv2D(32, kernel_size=(3,3), padding='valid', activation=tf.keras.activations.elu)(input_)\n",
    "layer_2 = tf.keras.layers.Conv2D(64, kernel_size=(2,2), padding='valid', activation=tf.keras.activations.elu)(layer_1)\n",
    "layer_3 = tf.keras.layers.Conv2D(128, kernel_size=(3,3), padding='valid', activation=tf.keras.activations.elu)(layer_2)\n",
    "layer_4 = tf.keras.layers.Conv2D(256, kernel_size=(2,2), padding='valid', activation=tf.keras.activations.elu)(layer_3)\n",
    "layer_5 = tf.keras.layers.Conv2D(128, kernel_size=(3,3), padding='valid', activation=tf.keras.activations.elu)(layer_4)\n",
    "layer_6 = tf.keras.layers.Conv2D(64, kernel_size=(2,2), padding='valid', activation=tf.keras.activations.elu)(layer_5)\n",
    "layer_7 = tf.keras.layers.Conv2D(32, kernel_size=(3,3), padding='valid', activation=tf.keras.activations.elu)(layer_6)\n",
    "layer_8 = tf.keras.layers.Conv2D(10, kernel_size=(2,2), padding='valid', activation=tf.keras.activations.elu)(layer_7)\n",
    "layer_9 = tf.keras.layers.Conv2D(1, kernel_size=(3,3), padding='valid', activation=tf.keras.activations.elu)(layer_8)\n",
    "layer_10 = tf.keras.layers.Flatten()(layer_9)\n",
    "layer_11 = tf.keras.layers.Dense(64, activation=tf.keras.activations.elu)(layer_10)\n",
    "layer_12 = tf.keras.layers.Dense(32, activation=tf.keras.activations.elu)(layer_11)\n",
    "layer_13 = tf.keras.layers.Dense(10, activation=tf.keras.activations.softmax)(layer_12)\n",
    "\n",
    "# Encoder\n",
    "layer_14 = tf.keras.layers.Dense(32, activation=tf.keras.activations.elu)(layer_13)\n",
    "layer_15 = tf.keras.layers.Dense(64, activation=tf.keras.activations.elu)(layer_14)\n",
    "layer_16 = tf.keras.layers.Dense(196, activation=tf.keras.activations.elu)(layer_15)\n",
    "layer_16 = tf.keras.layers.Reshape((14, 14 ,1))(layer_16)\n",
    "layer_17 = tf.keras.layers.Conv2DTranspose(10, kernel_size=(3,3), padding='valid', activation=tf.keras.activations.elu)(layer_16)\n",
    "layer_18 = tf.keras.layers.Conv2DTranspose(32, kernel_size=(2,2), padding='valid', activation=tf.keras.activations.elu)(layer_17)\n",
    "layer_19 = tf.keras.layers.Conv2DTranspose(64, kernel_size=(3,3), padding='valid', activation=tf.keras.activations.elu)(layer_18)\n",
    "layer_20 = tf.keras.layers.Conv2DTranspose(128, kernel_size=(2,2), padding='valid', activation=tf.keras.activations.elu)(layer_19)\n",
    "layer_21 = tf.keras.layers.Conv2DTranspose(256, kernel_size=(3,3), padding='valid', activation=tf.keras.activations.elu)(layer_20)\n",
    "layer_22 = tf.keras.layers.Conv2DTranspose(128, kernel_size=(2,2), padding='valid', activation=tf.keras.activations.elu)(layer_21)\n",
    "layer_23 = tf.keras.layers.Conv2DTranspose(64, kernel_size=(2,2), padding='valid', activation=tf.keras.activations.elu)(layer_22)\n",
    "layer_24 = tf.keras.layers.Conv2DTranspose(32, kernel_size=(3,3), padding='valid', activation=tf.keras.activations.elu)(layer_23)\n",
    "layer_25 = tf.keras.layers.Conv2DTranspose(1, kernel_size=(3,3), padding='valid', activation=tf.keras.activations.elu)(layer_24)\n",
    "# layer_26 = tf.keras.layers.Conv2DTranspose(1, kernel_size=(3,3), padding='valid', activation=tf.keras.activations.sigmoid)(layer_25)\n"
   ]
  },
  {
   "cell_type": "code",
   "execution_count": 109,
   "id": "e8d2afde",
   "metadata": {},
   "outputs": [],
   "source": [
    "model = tf.keras.Model(inputs=[input_], outputs=[layer_25])"
   ]
  },
  {
   "cell_type": "code",
   "execution_count": 110,
   "id": "d8e25347",
   "metadata": {},
   "outputs": [
    {
     "name": "stdout",
     "output_type": "stream",
     "text": [
      "Model: \"model_10\"\n",
      "_________________________________________________________________\n",
      "Layer (type)                 Output Shape              Param #   \n",
      "=================================================================\n",
      "input_14 (InputLayer)        [(None, 28, 28, 1)]       0         \n",
      "_________________________________________________________________\n",
      "conv2d_116 (Conv2D)          (None, 26, 26, 32)        320       \n",
      "_________________________________________________________________\n",
      "conv2d_117 (Conv2D)          (None, 25, 25, 64)        8256      \n",
      "_________________________________________________________________\n",
      "conv2d_118 (Conv2D)          (None, 23, 23, 128)       73856     \n",
      "_________________________________________________________________\n",
      "conv2d_119 (Conv2D)          (None, 22, 22, 256)       131328    \n",
      "_________________________________________________________________\n",
      "conv2d_120 (Conv2D)          (None, 20, 20, 128)       295040    \n",
      "_________________________________________________________________\n",
      "conv2d_121 (Conv2D)          (None, 19, 19, 64)        32832     \n",
      "_________________________________________________________________\n",
      "conv2d_122 (Conv2D)          (None, 17, 17, 32)        18464     \n",
      "_________________________________________________________________\n",
      "conv2d_123 (Conv2D)          (None, 16, 16, 10)        1290      \n",
      "_________________________________________________________________\n",
      "conv2d_124 (Conv2D)          (None, 14, 14, 1)         91        \n",
      "_________________________________________________________________\n",
      "flatten_11 (Flatten)         (None, 196)               0         \n",
      "_________________________________________________________________\n",
      "dense_54 (Dense)             (None, 64)                12608     \n",
      "_________________________________________________________________\n",
      "dense_55 (Dense)             (None, 32)                2080      \n",
      "_________________________________________________________________\n",
      "dense_56 (Dense)             (None, 10)                330       \n",
      "_________________________________________________________________\n",
      "dense_57 (Dense)             (None, 32)                352       \n",
      "_________________________________________________________________\n",
      "dense_58 (Dense)             (None, 64)                2112      \n",
      "_________________________________________________________________\n",
      "dense_59 (Dense)             (None, 196)               12740     \n",
      "_________________________________________________________________\n",
      "reshape_6 (Reshape)          (None, 14, 14, 1)         0         \n",
      "_________________________________________________________________\n",
      "conv2d_transpose_57 (Conv2DT (None, 16, 16, 10)        100       \n",
      "_________________________________________________________________\n",
      "conv2d_transpose_58 (Conv2DT (None, 17, 17, 32)        1312      \n",
      "_________________________________________________________________\n",
      "conv2d_transpose_59 (Conv2DT (None, 19, 19, 64)        18496     \n",
      "_________________________________________________________________\n",
      "conv2d_transpose_60 (Conv2DT (None, 20, 20, 128)       32896     \n",
      "_________________________________________________________________\n",
      "conv2d_transpose_61 (Conv2DT (None, 22, 22, 256)       295168    \n",
      "_________________________________________________________________\n",
      "conv2d_transpose_62 (Conv2DT (None, 23, 23, 128)       131200    \n",
      "_________________________________________________________________\n",
      "conv2d_transpose_63 (Conv2DT (None, 24, 24, 64)        32832     \n",
      "_________________________________________________________________\n",
      "conv2d_transpose_64 (Conv2DT (None, 26, 26, 32)        18464     \n",
      "_________________________________________________________________\n",
      "conv2d_transpose_65 (Conv2DT (None, 28, 28, 1)         289       \n",
      "=================================================================\n",
      "Total params: 1,122,456\n",
      "Trainable params: 1,122,456\n",
      "Non-trainable params: 0\n",
      "_________________________________________________________________\n"
     ]
    }
   ],
   "source": [
    "model.summary()"
   ]
  },
  {
   "cell_type": "code",
   "execution_count": 111,
   "id": "cb7e5636",
   "metadata": {},
   "outputs": [],
   "source": [
    "model.compile(optimizer=tf.keras.optimizers.Adam(1e-4), loss=tf.keras.losses.BinaryCrossentropy(),metrics=['mse'])"
   ]
  },
  {
   "cell_type": "code",
   "execution_count": 116,
   "id": "0e05cdf0",
   "metadata": {
    "scrolled": true
   },
   "outputs": [
    {
     "name": "stdout",
     "output_type": "stream",
     "text": [
      "Epoch 1/10\n",
      "1875/1875 [==============================] - 55s 29ms/step - loss: 0.1919 - acc: 0.7995\n",
      "Epoch 2/10\n",
      "1875/1875 [==============================] - 56s 30ms/step - loss: 0.1911 - acc: 0.8008\n",
      "Epoch 3/10\n",
      "1875/1875 [==============================] - 56s 30ms/step - loss: 0.2057 - acc: 0.7990\n",
      "Epoch 4/10\n",
      "1875/1875 [==============================] - 56s 30ms/step - loss: 0.1948 - acc: 0.7994\n",
      "Epoch 5/10\n",
      "1875/1875 [==============================] - 56s 30ms/step - loss: 0.2057 - acc: 0.7990\n",
      "Epoch 6/10\n",
      "1875/1875 [==============================] - 56s 30ms/step - loss: 0.1980 - acc: 0.7992\n",
      "Epoch 7/10\n",
      "1875/1875 [==============================] - 56s 30ms/step - loss: 0.1860 - acc: 0.8012\n",
      "Epoch 8/10\n",
      "1875/1875 [==============================] - 56s 30ms/step - loss: 0.1809 - acc: 0.8006\n",
      "Epoch 9/10\n",
      "1875/1875 [==============================] - 56s 30ms/step - loss: 0.2029 - acc: 0.7993\n",
      "Epoch 10/10\n",
      "1875/1875 [==============================] - 56s 30ms/step - loss: 0.1783 - acc: 0.8016\n"
     ]
    },
    {
     "data": {
      "text/plain": [
       "<keras.callbacks.History at 0x2633695ca88>"
      ]
     },
     "execution_count": 116,
     "metadata": {},
     "output_type": "execute_result"
    }
   ],
   "source": [
    "model.fit(x_train,x_train, epochs=10)"
   ]
  },
  {
   "cell_type": "code",
   "execution_count": 117,
   "id": "92ab72b5",
   "metadata": {},
   "outputs": [],
   "source": [
    "p = model.predict(x_train[0].reshape(-1,28,28,1))"
   ]
  },
  {
   "cell_type": "code",
   "execution_count": 118,
   "id": "39b6c3ee",
   "metadata": {},
   "outputs": [
    {
     "data": {
      "text/plain": [
       "<matplotlib.image.AxesImage at 0x263382e6ec8>"
      ]
     },
     "execution_count": 118,
     "metadata": {},
     "output_type": "execute_result"
    },
    {
     "data": {
      "image/png": "[encoded data removed]",
      "text/plain": [
       "<Figure size 432x288 with 1 Axes>"
      ]
     },
     "metadata": {
      "needs_background": "light"
     },
     "output_type": "display_data"
    }
   ],
   "source": [
    "plot.imshow(p[0])"
   ]
  },
  {
   "cell_type": "code",
   "execution_count": 119,
   "id": "873f9cac",
   "metadata": {},
   "outputs": [
    {
     "data": {
      "text/plain": [
       "<matplotlib.image.AxesImage at 0x2633696c5c8>"
      ]
     },
     "execution_count": 119,
     "metadata": {},
     "output_type": "execute_result"
    },
    {
     "data": {
      "image/png": "[encoded data removed]",
      "text/plain": [
       "<Figure size 432x288 with 1 Axes>"
      ]
     },
     "metadata": {
      "needs_background": "light"
     },
     "output_type": "display_data"
    }
   ],
   "source": [
    "plot.imshow(x_train[0])"
   ]
  },
  {
   "cell_type": "markdown",
   "id": "92a02ae6-b127-4a6e-a98e-3d539d8055d0",
   "metadata": {},
   "source": [
    "Transform Learning"
   ]
  },
  {
   "cell_type": "code",
   "execution_count": 149,
   "id": "fd6bf510",
   "metadata": {},
   "outputs": [],
   "source": [
    "t_input_ = tf.keras.layers.Input(shape=(28,28,1))\n",
    "t_layer_1 = tf.keras.layers.Conv2D(32, kernel_size=(3,3), padding='valid', activation=tf.keras.activations.elu)(t_input_)\n",
    "t_layer_2 = tf.keras.layers.Conv2D(64, kernel_size=(2,2), padding='valid', activation=tf.keras.activations.elu)(t_layer_1)\n",
    "t_layer_3 = tf.keras.layers.Conv2D(128, kernel_size=(3,3), padding='valid', activation=tf.keras.activations.elu)(t_layer_2)\n",
    "t_layer_4 = tf.keras.layers.Conv2D(256, kernel_size=(2,2), padding='valid', activation=tf.keras.activations.elu)(t_layer_3)\n",
    "t_layer_5 = tf.keras.layers.Conv2D(128, kernel_size=(3,3), padding='valid', activation=tf.keras.activations.elu)(t_layer_4)\n",
    "t_layer_6 = tf.keras.layers.Conv2D(64, kernel_size=(2,2), padding='valid', activation=tf.keras.activations.elu)(t_layer_5)\n",
    "t_layer_7 = tf.keras.layers.Conv2D(32, kernel_size=(3,3), padding='valid', activation=tf.keras.activations.elu)(t_layer_6)\n",
    "t_layer_8 = tf.keras.layers.Conv2D(10, kernel_size=(2,2), padding='valid', activation=tf.keras.activations.elu)(t_layer_7)\n",
    "t_layer_9 = tf.keras.layers.Conv2D(1, kernel_size=(3,3), padding='valid', activation=tf.keras.activations.elu)(t_layer_8)\n",
    "t_layer_10 = tf.keras.layers.Flatten()(t_layer_9)\n",
    "t_layer_11 = tf.keras.layers.Dense(64, activation=tf.keras.activations.elu)(t_layer_10)\n",
    "t_layer_12 = tf.keras.layers.Dense(32, activation=tf.keras.activations.elu)(t_layer_11)\n",
    "t_layer_13 = tf.keras.layers.Dense(10, activation=tf.keras.activations.elu)(t_layer_12)\n",
    "t_layer_14 = tf.keras.layers.Dense(10, activation=tf.keras.activations.softmax)(t_layer_13)"
   ]
  },
  {
   "cell_type": "code",
   "execution_count": 150,
   "id": "ccf7f49b",
   "metadata": {},
   "outputs": [],
   "source": [
    "t_model = tf.keras.Model(inputs=[t_input_], outputs=[t_layer_14])"
   ]
  },
  {
   "cell_type": "code",
   "execution_count": 151,
   "id": "365cc14c",
   "metadata": {},
   "outputs": [
    {
     "name": "stdout",
     "output_type": "stream",
     "text": [
      "Model: \"model_14\"\n",
      "_________________________________________________________________\n",
      "Layer (type)                 Output Shape              Param #   \n",
      "=================================================================\n",
      "input_19 (InputLayer)        [(None, 28, 28, 1)]       0         \n",
      "_________________________________________________________________\n",
      "conv2d_161 (Conv2D)          (None, 26, 26, 32)        320       \n",
      "_________________________________________________________________\n",
      "conv2d_162 (Conv2D)          (None, 25, 25, 64)        8256      \n",
      "_________________________________________________________________\n",
      "conv2d_163 (Conv2D)          (None, 23, 23, 128)       73856     \n",
      "_________________________________________________________________\n",
      "conv2d_164 (Conv2D)          (None, 22, 22, 256)       131328    \n",
      "_________________________________________________________________\n",
      "conv2d_165 (Conv2D)          (None, 20, 20, 128)       295040    \n",
      "_________________________________________________________________\n",
      "conv2d_166 (Conv2D)          (None, 19, 19, 64)        32832     \n",
      "_________________________________________________________________\n",
      "conv2d_167 (Conv2D)          (None, 17, 17, 32)        18464     \n",
      "_________________________________________________________________\n",
      "conv2d_168 (Conv2D)          (None, 16, 16, 10)        1290      \n",
      "_________________________________________________________________\n",
      "conv2d_169 (Conv2D)          (None, 14, 14, 1)         91        \n",
      "_________________________________________________________________\n",
      "flatten_16 (Flatten)         (None, 196)               0         \n",
      "_________________________________________________________________\n",
      "dense_74 (Dense)             (None, 64)                12608     \n",
      "_________________________________________________________________\n",
      "dense_75 (Dense)             (None, 32)                2080      \n",
      "_________________________________________________________________\n",
      "dense_76 (Dense)             (None, 10)                330       \n",
      "_________________________________________________________________\n",
      "dense_77 (Dense)             (None, 10)                110       \n",
      "=================================================================\n",
      "Total params: 576,605\n",
      "Trainable params: 576,605\n",
      "Non-trainable params: 0\n",
      "_________________________________________________________________\n"
     ]
    }
   ],
   "source": [
    "t_model.summary()"
   ]
  },
  {
   "cell_type": "code",
   "execution_count": 152,
   "id": "63fc4eae",
   "metadata": {},
   "outputs": [],
   "source": [
    "for i in range(len(t_model.layers[:]) - 1):\n",
    "    t_model.layers[i].set_weights(model.layers[i].get_weights())\n",
    "    t_model.layers[i].trainable = False"
   ]
  },
  {
   "cell_type": "code",
   "execution_count": 154,
   "id": "9cd8a12f",
   "metadata": {},
   "outputs": [],
   "source": [
    "t_model.compile(optimizer=tf.keras.optimizers.Adam(1e-3), loss=tf.keras.losses.SparseCategoricalCrossentropy(),metrics=['acc'])"
   ]
  },
  {
   "cell_type": "code",
   "execution_count": 155,
   "id": "afd106f3",
   "metadata": {},
   "outputs": [
    {
     "data": {
      "text/plain": [
       "array([[5.],\n",
       "       [0.],\n",
       "       [4.],\n",
       "       ...,\n",
       "       [5.],\n",
       "       [6.],\n",
       "       [8.]], dtype=float32)"
      ]
     },
     "execution_count": 155,
     "metadata": {},
     "output_type": "execute_result"
    }
   ],
   "source": [
    "y_train"
   ]
  },
  {
   "cell_type": "code",
   "execution_count": 156,
   "id": "79cf8317",
   "metadata": {
    "scrolled": true
   },
   "outputs": [
    {
     "name": "stdout",
     "output_type": "stream",
     "text": [
      "Epoch 1/100\n",
      "1875/1875 [==============================] - 14s 7ms/step - loss: 1.6217 - acc: 0.5522 - val_loss: 1.1416 - val_acc: 0.7283\n",
      "Epoch 2/100\n",
      "1875/1875 [==============================] - 14s 7ms/step - loss: 0.9726 - acc: 0.7484 - val_loss: 0.8282 - val_acc: 0.7760\n",
      "Epoch 3/100\n",
      "1875/1875 [==============================] - 14s 7ms/step - loss: 0.7774 - acc: 0.7789 - val_loss: 0.7055 - val_acc: 0.7938\n",
      "Epoch 4/100\n",
      "1875/1875 [==============================] - 14s 7ms/step - loss: 0.6916 - acc: 0.7924 - val_loss: 0.6455 - val_acc: 0.8034\n",
      "Epoch 5/100\n",
      "1875/1875 [==============================] - 14s 7ms/step - loss: 0.6473 - acc: 0.7991 - val_loss: 0.6124 - val_acc: 0.8080\n",
      "Epoch 6/100\n",
      "1875/1875 [==============================] - 14s 7ms/step - loss: 0.6216 - acc: 0.8043 - val_loss: 0.5925 - val_acc: 0.8128\n",
      "Epoch 7/100\n",
      "1875/1875 [==============================] - 14s 7ms/step - loss: 0.6054 - acc: 0.8071 - val_loss: 0.5794 - val_acc: 0.8171\n",
      "Epoch 8/100\n",
      "1875/1875 [==============================] - 14s 7ms/step - loss: 0.5943 - acc: 0.8091 - val_loss: 0.5702 - val_acc: 0.8196\n",
      "Epoch 9/100\n",
      "1875/1875 [==============================] - 14s 7ms/step - loss: 0.5864 - acc: 0.8113 - val_loss: 0.5630 - val_acc: 0.8209\n",
      "Epoch 10/100\n",
      "1875/1875 [==============================] - 14s 7ms/step - loss: 0.5804 - acc: 0.8128 - val_loss: 0.5580 - val_acc: 0.8215\n",
      "Epoch 11/100\n",
      "1875/1875 [==============================] - 14s 7ms/step - loss: 0.5757 - acc: 0.8139 - val_loss: 0.5538 - val_acc: 0.8237\n",
      "Epoch 12/100\n",
      "1875/1875 [==============================] - 14s 7ms/step - loss: 0.5721 - acc: 0.8147 - val_loss: 0.5504 - val_acc: 0.8240\n",
      "Epoch 13/100\n",
      "1875/1875 [==============================] - 14s 7ms/step - loss: 0.5690 - acc: 0.8156 - val_loss: 0.5478 - val_acc: 0.8248\n",
      "Epoch 14/100\n",
      "1875/1875 [==============================] - 14s 7ms/step - loss: 0.5666 - acc: 0.8164 - val_loss: 0.5456 - val_acc: 0.8254\n",
      "Epoch 15/100\n",
      "1875/1875 [==============================] - 14s 7ms/step - loss: 0.5645 - acc: 0.8168 - val_loss: 0.5434 - val_acc: 0.8262\n",
      "Epoch 16/100\n",
      "1875/1875 [==============================] - 14s 7ms/step - loss: 0.5627 - acc: 0.8176 - val_loss: 0.5419 - val_acc: 0.8265\n",
      "Epoch 17/100\n",
      "1875/1875 [==============================] - 14s 7ms/step - loss: 0.5612 - acc: 0.8178 - val_loss: 0.5405 - val_acc: 0.8266\n",
      "Epoch 18/100\n",
      "1875/1875 [==============================] - 14s 7ms/step - loss: 0.5599 - acc: 0.8187 - val_loss: 0.5393 - val_acc: 0.8262\n",
      "Epoch 19/100\n",
      "1875/1875 [==============================] - 14s 7ms/step - loss: 0.5588 - acc: 0.8188 - val_loss: 0.5382 - val_acc: 0.8279\n",
      "Epoch 20/100\n",
      "1875/1875 [==============================] - 14s 7ms/step - loss: 0.5578 - acc: 0.8196 - val_loss: 0.5372 - val_acc: 0.8288\n",
      "Epoch 21/100\n",
      "1875/1875 [==============================] - 14s 7ms/step - loss: 0.5569 - acc: 0.8196 - val_loss: 0.5361 - val_acc: 0.8291\n",
      "Epoch 22/100\n",
      "1875/1875 [==============================] - 14s 7ms/step - loss: 0.5561 - acc: 0.8200 - val_loss: 0.5354 - val_acc: 0.8292\n",
      "Epoch 23/100\n",
      "1875/1875 [==============================] - 14s 7ms/step - loss: 0.5554 - acc: 0.8200 - val_loss: 0.5346 - val_acc: 0.8296\n",
      "Epoch 24/100\n",
      "1875/1875 [==============================] - 14s 7ms/step - loss: 0.5547 - acc: 0.8208 - val_loss: 0.5341 - val_acc: 0.8293\n",
      "Epoch 25/100\n",
      "1875/1875 [==============================] - 14s 7ms/step - loss: 0.5542 - acc: 0.8206 - val_loss: 0.5335 - val_acc: 0.8302\n",
      "Epoch 26/100\n",
      " 924/1875 [=============>................] - ETA: 6s - loss: 0.5550 - acc: 0.8221"
     ]
    },
    {
     "ename": "KeyboardInterrupt",
     "evalue": "",
     "output_type": "error",
     "traceback": [
      "\u001b[1;31m---------------------------------------------------------------------------\u001b[0m",
      "\u001b[1;31mKeyboardInterrupt\u001b[0m                         Traceback (most recent call last)",
      "\u001b[1;32m~\\AppData\\Local\\Temp/ipykernel_14156/1564865597.py\u001b[0m in \u001b[0;36m<module>\u001b[1;34m\u001b[0m\n\u001b[1;32m----> 1\u001b[1;33m \u001b[0mt_model\u001b[0m\u001b[1;33m.\u001b[0m\u001b[0mfit\u001b[0m\u001b[1;33m(\u001b[0m\u001b[0mx\u001b[0m\u001b[1;33m=\u001b[0m\u001b[0mx_train\u001b[0m\u001b[1;33m,\u001b[0m \u001b[0my\u001b[0m\u001b[1;33m=\u001b[0m\u001b[0my_train\u001b[0m\u001b[1;33m,\u001b[0m \u001b[0mepochs\u001b[0m\u001b[1;33m=\u001b[0m\u001b[1;36m100\u001b[0m\u001b[1;33m,\u001b[0m \u001b[0mvalidation_data\u001b[0m\u001b[1;33m=\u001b[0m\u001b[1;33m(\u001b[0m\u001b[0mx_test\u001b[0m\u001b[1;33m,\u001b[0m \u001b[0my_test\u001b[0m\u001b[1;33m)\u001b[0m\u001b[1;33m)\u001b[0m\u001b[1;33m\u001b[0m\u001b[1;33m\u001b[0m\u001b[0m\n\u001b[0m",
      "\u001b[1;32mc:\\users\\karta\\appdata\\local\\programs\\python\\python37\\lib\\site-packages\\keras\\engine\\training.py\u001b[0m in \u001b[0;36mfit\u001b[1;34m(self, x, y, batch_size, epochs, verbose, callbacks, validation_split, validation_data, shuffle, class_weight, sample_weight, initial_epoch, steps_per_epoch, validation_steps, validation_batch_size, validation_freq, max_queue_size, workers, use_multiprocessing)\u001b[0m\n\u001b[0;32m   1187\u001b[0m               \u001b[0mlogs\u001b[0m \u001b[1;33m=\u001b[0m \u001b[0mtmp_logs\u001b[0m  \u001b[1;31m# No error, now safe to assign to logs.\u001b[0m\u001b[1;33m\u001b[0m\u001b[1;33m\u001b[0m\u001b[0m\n\u001b[0;32m   1188\u001b[0m               \u001b[0mend_step\u001b[0m \u001b[1;33m=\u001b[0m \u001b[0mstep\u001b[0m \u001b[1;33m+\u001b[0m \u001b[0mdata_handler\u001b[0m\u001b[1;33m.\u001b[0m\u001b[0mstep_increment\u001b[0m\u001b[1;33m\u001b[0m\u001b[1;33m\u001b[0m\u001b[0m\n\u001b[1;32m-> 1189\u001b[1;33m               \u001b[0mcallbacks\u001b[0m\u001b[1;33m.\u001b[0m\u001b[0mon_train_batch_end\u001b[0m\u001b[1;33m(\u001b[0m\u001b[0mend_step\u001b[0m\u001b[1;33m,\u001b[0m \u001b[0mlogs\u001b[0m\u001b[1;33m)\u001b[0m\u001b[1;33m\u001b[0m\u001b[1;33m\u001b[0m\u001b[0m\n\u001b[0m\u001b[0;32m   1190\u001b[0m               \u001b[1;32mif\u001b[0m \u001b[0mself\u001b[0m\u001b[1;33m.\u001b[0m\u001b[0mstop_training\u001b[0m\u001b[1;33m:\u001b[0m\u001b[1;33m\u001b[0m\u001b[1;33m\u001b[0m\u001b[0m\n\u001b[0;32m   1191\u001b[0m                 \u001b[1;32mbreak\u001b[0m\u001b[1;33m\u001b[0m\u001b[1;33m\u001b[0m\u001b[0m\n",
      "\u001b[1;32mc:\\users\\karta\\appdata\\local\\programs\\python\\python37\\lib\\site-packages\\keras\\callbacks.py\u001b[0m in \u001b[0;36mon_train_batch_end\u001b[1;34m(self, batch, logs)\u001b[0m\n\u001b[0;32m    433\u001b[0m     \"\"\"\n\u001b[0;32m    434\u001b[0m     \u001b[1;32mif\u001b[0m \u001b[0mself\u001b[0m\u001b[1;33m.\u001b[0m\u001b[0m_should_call_train_batch_hooks\u001b[0m\u001b[1;33m:\u001b[0m\u001b[1;33m\u001b[0m\u001b[1;33m\u001b[0m\u001b[0m\n\u001b[1;32m--> 435\u001b[1;33m       \u001b[0mself\u001b[0m\u001b[1;33m.\u001b[0m\u001b[0m_call_batch_hook\u001b[0m\u001b[1;33m(\u001b[0m\u001b[0mModeKeys\u001b[0m\u001b[1;33m.\u001b[0m\u001b[0mTRAIN\u001b[0m\u001b[1;33m,\u001b[0m \u001b[1;34m'end'\u001b[0m\u001b[1;33m,\u001b[0m \u001b[0mbatch\u001b[0m\u001b[1;33m,\u001b[0m \u001b[0mlogs\u001b[0m\u001b[1;33m=\u001b[0m\u001b[0mlogs\u001b[0m\u001b[1;33m)\u001b[0m\u001b[1;33m\u001b[0m\u001b[1;33m\u001b[0m\u001b[0m\n\u001b[0m\u001b[0;32m    436\u001b[0m \u001b[1;33m\u001b[0m\u001b[0m\n\u001b[0;32m    437\u001b[0m   \u001b[1;32mdef\u001b[0m \u001b[0mon_test_batch_begin\u001b[0m\u001b[1;33m(\u001b[0m\u001b[0mself\u001b[0m\u001b[1;33m,\u001b[0m \u001b[0mbatch\u001b[0m\u001b[1;33m,\u001b[0m \u001b[0mlogs\u001b[0m\u001b[1;33m=\u001b[0m\u001b[1;32mNone\u001b[0m\u001b[1;33m)\u001b[0m\u001b[1;33m:\u001b[0m\u001b[1;33m\u001b[0m\u001b[1;33m\u001b[0m\u001b[0m\n",
      "\u001b[1;32mc:\\users\\karta\\appdata\\local\\programs\\python\\python37\\lib\\site-packages\\keras\\callbacks.py\u001b[0m in \u001b[0;36m_call_batch_hook\u001b[1;34m(self, mode, hook, batch, logs)\u001b[0m\n\u001b[0;32m    293\u001b[0m       \u001b[0mself\u001b[0m\u001b[1;33m.\u001b[0m\u001b[0m_call_batch_begin_hook\u001b[0m\u001b[1;33m(\u001b[0m\u001b[0mmode\u001b[0m\u001b[1;33m,\u001b[0m \u001b[0mbatch\u001b[0m\u001b[1;33m,\u001b[0m \u001b[0mlogs\u001b[0m\u001b[1;33m)\u001b[0m\u001b[1;33m\u001b[0m\u001b[1;33m\u001b[0m\u001b[0m\n\u001b[0;32m    294\u001b[0m     \u001b[1;32melif\u001b[0m \u001b[0mhook\u001b[0m \u001b[1;33m==\u001b[0m \u001b[1;34m'end'\u001b[0m\u001b[1;33m:\u001b[0m\u001b[1;33m\u001b[0m\u001b[1;33m\u001b[0m\u001b[0m\n\u001b[1;32m--> 295\u001b[1;33m       \u001b[0mself\u001b[0m\u001b[1;33m.\u001b[0m\u001b[0m_call_batch_end_hook\u001b[0m\u001b[1;33m(\u001b[0m\u001b[0mmode\u001b[0m\u001b[1;33m,\u001b[0m \u001b[0mbatch\u001b[0m\u001b[1;33m,\u001b[0m \u001b[0mlogs\u001b[0m\u001b[1;33m)\u001b[0m\u001b[1;33m\u001b[0m\u001b[1;33m\u001b[0m\u001b[0m\n\u001b[0m\u001b[0;32m    296\u001b[0m     \u001b[1;32melse\u001b[0m\u001b[1;33m:\u001b[0m\u001b[1;33m\u001b[0m\u001b[1;33m\u001b[0m\u001b[0m\n\u001b[0;32m    297\u001b[0m       \u001b[1;32mraise\u001b[0m \u001b[0mValueError\u001b[0m\u001b[1;33m(\u001b[0m\u001b[1;34m'Unrecognized hook: {}'\u001b[0m\u001b[1;33m.\u001b[0m\u001b[0mformat\u001b[0m\u001b[1;33m(\u001b[0m\u001b[0mhook\u001b[0m\u001b[1;33m)\u001b[0m\u001b[1;33m)\u001b[0m\u001b[1;33m\u001b[0m\u001b[1;33m\u001b[0m\u001b[0m\n",
      "\u001b[1;32mc:\\users\\karta\\appdata\\local\\programs\\python\\python37\\lib\\site-packages\\keras\\callbacks.py\u001b[0m in \u001b[0;36m_call_batch_end_hook\u001b[1;34m(self, mode, batch, logs)\u001b[0m\n\u001b[0;32m    313\u001b[0m       \u001b[0mself\u001b[0m\u001b[1;33m.\u001b[0m\u001b[0m_batch_times\u001b[0m\u001b[1;33m.\u001b[0m\u001b[0mappend\u001b[0m\u001b[1;33m(\u001b[0m\u001b[0mbatch_time\u001b[0m\u001b[1;33m)\u001b[0m\u001b[1;33m\u001b[0m\u001b[1;33m\u001b[0m\u001b[0m\n\u001b[0;32m    314\u001b[0m \u001b[1;33m\u001b[0m\u001b[0m\n\u001b[1;32m--> 315\u001b[1;33m     \u001b[0mself\u001b[0m\u001b[1;33m.\u001b[0m\u001b[0m_call_batch_hook_helper\u001b[0m\u001b[1;33m(\u001b[0m\u001b[0mhook_name\u001b[0m\u001b[1;33m,\u001b[0m \u001b[0mbatch\u001b[0m\u001b[1;33m,\u001b[0m \u001b[0mlogs\u001b[0m\u001b[1;33m)\u001b[0m\u001b[1;33m\u001b[0m\u001b[1;33m\u001b[0m\u001b[0m\n\u001b[0m\u001b[0;32m    316\u001b[0m \u001b[1;33m\u001b[0m\u001b[0m\n\u001b[0;32m    317\u001b[0m     \u001b[1;32mif\u001b[0m \u001b[0mlen\u001b[0m\u001b[1;33m(\u001b[0m\u001b[0mself\u001b[0m\u001b[1;33m.\u001b[0m\u001b[0m_batch_times\u001b[0m\u001b[1;33m)\u001b[0m \u001b[1;33m>=\u001b[0m \u001b[0mself\u001b[0m\u001b[1;33m.\u001b[0m\u001b[0m_num_batches_for_timing_check\u001b[0m\u001b[1;33m:\u001b[0m\u001b[1;33m\u001b[0m\u001b[1;33m\u001b[0m\u001b[0m\n",
      "\u001b[1;32mc:\\users\\karta\\appdata\\local\\programs\\python\\python37\\lib\\site-packages\\keras\\callbacks.py\u001b[0m in \u001b[0;36m_call_batch_hook_helper\u001b[1;34m(self, hook_name, batch, logs)\u001b[0m\n\u001b[0;32m    351\u001b[0m     \u001b[1;32mfor\u001b[0m \u001b[0mcallback\u001b[0m \u001b[1;32min\u001b[0m \u001b[0mself\u001b[0m\u001b[1;33m.\u001b[0m\u001b[0mcallbacks\u001b[0m\u001b[1;33m:\u001b[0m\u001b[1;33m\u001b[0m\u001b[1;33m\u001b[0m\u001b[0m\n\u001b[0;32m    352\u001b[0m       \u001b[0mhook\u001b[0m \u001b[1;33m=\u001b[0m \u001b[0mgetattr\u001b[0m\u001b[1;33m(\u001b[0m\u001b[0mcallback\u001b[0m\u001b[1;33m,\u001b[0m \u001b[0mhook_name\u001b[0m\u001b[1;33m)\u001b[0m\u001b[1;33m\u001b[0m\u001b[1;33m\u001b[0m\u001b[0m\n\u001b[1;32m--> 353\u001b[1;33m       \u001b[0mhook\u001b[0m\u001b[1;33m(\u001b[0m\u001b[0mbatch\u001b[0m\u001b[1;33m,\u001b[0m \u001b[0mlogs\u001b[0m\u001b[1;33m)\u001b[0m\u001b[1;33m\u001b[0m\u001b[1;33m\u001b[0m\u001b[0m\n\u001b[0m\u001b[0;32m    354\u001b[0m \u001b[1;33m\u001b[0m\u001b[0m\n\u001b[0;32m    355\u001b[0m     \u001b[1;32mif\u001b[0m \u001b[0mself\u001b[0m\u001b[1;33m.\u001b[0m\u001b[0m_check_timing\u001b[0m\u001b[1;33m:\u001b[0m\u001b[1;33m\u001b[0m\u001b[1;33m\u001b[0m\u001b[0m\n",
      "\u001b[1;32mc:\\users\\karta\\appdata\\local\\programs\\python\\python37\\lib\\site-packages\\keras\\callbacks.py\u001b[0m in \u001b[0;36mon_train_batch_end\u001b[1;34m(self, batch, logs)\u001b[0m\n\u001b[0;32m   1026\u001b[0m \u001b[1;33m\u001b[0m\u001b[0m\n\u001b[0;32m   1027\u001b[0m   \u001b[1;32mdef\u001b[0m \u001b[0mon_train_batch_end\u001b[0m\u001b[1;33m(\u001b[0m\u001b[0mself\u001b[0m\u001b[1;33m,\u001b[0m \u001b[0mbatch\u001b[0m\u001b[1;33m,\u001b[0m \u001b[0mlogs\u001b[0m\u001b[1;33m=\u001b[0m\u001b[1;32mNone\u001b[0m\u001b[1;33m)\u001b[0m\u001b[1;33m:\u001b[0m\u001b[1;33m\u001b[0m\u001b[1;33m\u001b[0m\u001b[0m\n\u001b[1;32m-> 1028\u001b[1;33m     \u001b[0mself\u001b[0m\u001b[1;33m.\u001b[0m\u001b[0m_batch_update_progbar\u001b[0m\u001b[1;33m(\u001b[0m\u001b[0mbatch\u001b[0m\u001b[1;33m,\u001b[0m \u001b[0mlogs\u001b[0m\u001b[1;33m)\u001b[0m\u001b[1;33m\u001b[0m\u001b[1;33m\u001b[0m\u001b[0m\n\u001b[0m\u001b[0;32m   1029\u001b[0m \u001b[1;33m\u001b[0m\u001b[0m\n\u001b[0;32m   1030\u001b[0m   \u001b[1;32mdef\u001b[0m \u001b[0mon_test_batch_end\u001b[0m\u001b[1;33m(\u001b[0m\u001b[0mself\u001b[0m\u001b[1;33m,\u001b[0m \u001b[0mbatch\u001b[0m\u001b[1;33m,\u001b[0m \u001b[0mlogs\u001b[0m\u001b[1;33m=\u001b[0m\u001b[1;32mNone\u001b[0m\u001b[1;33m)\u001b[0m\u001b[1;33m:\u001b[0m\u001b[1;33m\u001b[0m\u001b[1;33m\u001b[0m\u001b[0m\n",
      "\u001b[1;32mc:\\users\\karta\\appdata\\local\\programs\\python\\python37\\lib\\site-packages\\keras\\callbacks.py\u001b[0m in \u001b[0;36m_batch_update_progbar\u001b[1;34m(self, batch, logs)\u001b[0m\n\u001b[0;32m   1098\u001b[0m     \u001b[1;32mif\u001b[0m \u001b[0mself\u001b[0m\u001b[1;33m.\u001b[0m\u001b[0mverbose\u001b[0m \u001b[1;33m==\u001b[0m \u001b[1;36m1\u001b[0m\u001b[1;33m:\u001b[0m\u001b[1;33m\u001b[0m\u001b[1;33m\u001b[0m\u001b[0m\n\u001b[0;32m   1099\u001b[0m       \u001b[1;31m# Only block async when verbose = 1.\u001b[0m\u001b[1;33m\u001b[0m\u001b[1;33m\u001b[0m\u001b[1;33m\u001b[0m\u001b[0m\n\u001b[1;32m-> 1100\u001b[1;33m       \u001b[0mlogs\u001b[0m \u001b[1;33m=\u001b[0m \u001b[0mtf_utils\u001b[0m\u001b[1;33m.\u001b[0m\u001b[0msync_to_numpy_or_python_type\u001b[0m\u001b[1;33m(\u001b[0m\u001b[0mlogs\u001b[0m\u001b[1;33m)\u001b[0m\u001b[1;33m\u001b[0m\u001b[1;33m\u001b[0m\u001b[0m\n\u001b[0m\u001b[0;32m   1101\u001b[0m       \u001b[0mself\u001b[0m\u001b[1;33m.\u001b[0m\u001b[0mprogbar\u001b[0m\u001b[1;33m.\u001b[0m\u001b[0mupdate\u001b[0m\u001b[1;33m(\u001b[0m\u001b[0mself\u001b[0m\u001b[1;33m.\u001b[0m\u001b[0mseen\u001b[0m\u001b[1;33m,\u001b[0m \u001b[0mlist\u001b[0m\u001b[1;33m(\u001b[0m\u001b[0mlogs\u001b[0m\u001b[1;33m.\u001b[0m\u001b[0mitems\u001b[0m\u001b[1;33m(\u001b[0m\u001b[1;33m)\u001b[0m\u001b[1;33m)\u001b[0m\u001b[1;33m,\u001b[0m \u001b[0mfinalize\u001b[0m\u001b[1;33m=\u001b[0m\u001b[1;32mFalse\u001b[0m\u001b[1;33m)\u001b[0m\u001b[1;33m\u001b[0m\u001b[1;33m\u001b[0m\u001b[0m\n\u001b[0;32m   1102\u001b[0m \u001b[1;33m\u001b[0m\u001b[0m\n",
      "\u001b[1;32mc:\\users\\karta\\appdata\\local\\programs\\python\\python37\\lib\\site-packages\\keras\\utils\\tf_utils.py\u001b[0m in \u001b[0;36msync_to_numpy_or_python_type\u001b[1;34m(tensors)\u001b[0m\n\u001b[0;32m    514\u001b[0m     \u001b[1;32mreturn\u001b[0m \u001b[0mt\u001b[0m  \u001b[1;31m# Don't turn ragged or sparse tensors to NumPy.\u001b[0m\u001b[1;33m\u001b[0m\u001b[1;33m\u001b[0m\u001b[0m\n\u001b[0;32m    515\u001b[0m \u001b[1;33m\u001b[0m\u001b[0m\n\u001b[1;32m--> 516\u001b[1;33m   \u001b[1;32mreturn\u001b[0m \u001b[0mtf\u001b[0m\u001b[1;33m.\u001b[0m\u001b[0mnest\u001b[0m\u001b[1;33m.\u001b[0m\u001b[0mmap_structure\u001b[0m\u001b[1;33m(\u001b[0m\u001b[0m_to_single_numpy_or_python_type\u001b[0m\u001b[1;33m,\u001b[0m \u001b[0mtensors\u001b[0m\u001b[1;33m)\u001b[0m\u001b[1;33m\u001b[0m\u001b[1;33m\u001b[0m\u001b[0m\n\u001b[0m\u001b[0;32m    517\u001b[0m \u001b[1;33m\u001b[0m\u001b[0m\n\u001b[0;32m    518\u001b[0m \u001b[1;33m\u001b[0m\u001b[0m\n",
      "\u001b[1;32m~\\AppData\\Roaming\\Python\\Python37\\site-packages\\tensorflow\\python\\util\\nest.py\u001b[0m in \u001b[0;36mmap_structure\u001b[1;34m(func, *structure, **kwargs)\u001b[0m\n\u001b[0;32m    867\u001b[0m \u001b[1;33m\u001b[0m\u001b[0m\n\u001b[0;32m    868\u001b[0m   return pack_sequence_as(\n\u001b[1;32m--> 869\u001b[1;33m       \u001b[0mstructure\u001b[0m\u001b[1;33m[\u001b[0m\u001b[1;36m0\u001b[0m\u001b[1;33m]\u001b[0m\u001b[1;33m,\u001b[0m \u001b[1;33m[\u001b[0m\u001b[0mfunc\u001b[0m\u001b[1;33m(\u001b[0m\u001b[1;33m*\u001b[0m\u001b[0mx\u001b[0m\u001b[1;33m)\u001b[0m \u001b[1;32mfor\u001b[0m \u001b[0mx\u001b[0m \u001b[1;32min\u001b[0m \u001b[0mentries\u001b[0m\u001b[1;33m]\u001b[0m\u001b[1;33m,\u001b[0m\u001b[1;33m\u001b[0m\u001b[1;33m\u001b[0m\u001b[0m\n\u001b[0m\u001b[0;32m    870\u001b[0m       expand_composites=expand_composites)\n\u001b[0;32m    871\u001b[0m \u001b[1;33m\u001b[0m\u001b[0m\n",
      "\u001b[1;32m~\\AppData\\Roaming\\Python\\Python37\\site-packages\\tensorflow\\python\\util\\nest.py\u001b[0m in \u001b[0;36m<listcomp>\u001b[1;34m(.0)\u001b[0m\n\u001b[0;32m    867\u001b[0m \u001b[1;33m\u001b[0m\u001b[0m\n\u001b[0;32m    868\u001b[0m   return pack_sequence_as(\n\u001b[1;32m--> 869\u001b[1;33m       \u001b[0mstructure\u001b[0m\u001b[1;33m[\u001b[0m\u001b[1;36m0\u001b[0m\u001b[1;33m]\u001b[0m\u001b[1;33m,\u001b[0m \u001b[1;33m[\u001b[0m\u001b[0mfunc\u001b[0m\u001b[1;33m(\u001b[0m\u001b[1;33m*\u001b[0m\u001b[0mx\u001b[0m\u001b[1;33m)\u001b[0m \u001b[1;32mfor\u001b[0m \u001b[0mx\u001b[0m \u001b[1;32min\u001b[0m \u001b[0mentries\u001b[0m\u001b[1;33m]\u001b[0m\u001b[1;33m,\u001b[0m\u001b[1;33m\u001b[0m\u001b[1;33m\u001b[0m\u001b[0m\n\u001b[0m\u001b[0;32m    870\u001b[0m       expand_composites=expand_composites)\n\u001b[0;32m    871\u001b[0m \u001b[1;33m\u001b[0m\u001b[0m\n",
      "\u001b[1;32mc:\\users\\karta\\appdata\\local\\programs\\python\\python37\\lib\\site-packages\\keras\\utils\\tf_utils.py\u001b[0m in \u001b[0;36m_to_single_numpy_or_python_type\u001b[1;34m(t)\u001b[0m\n\u001b[0;32m    510\u001b[0m   \u001b[1;32mdef\u001b[0m \u001b[0m_to_single_numpy_or_python_type\u001b[0m\u001b[1;33m(\u001b[0m\u001b[0mt\u001b[0m\u001b[1;33m)\u001b[0m\u001b[1;33m:\u001b[0m\u001b[1;33m\u001b[0m\u001b[1;33m\u001b[0m\u001b[0m\n\u001b[0;32m    511\u001b[0m     \u001b[1;32mif\u001b[0m \u001b[0misinstance\u001b[0m\u001b[1;33m(\u001b[0m\u001b[0mt\u001b[0m\u001b[1;33m,\u001b[0m \u001b[0mtf\u001b[0m\u001b[1;33m.\u001b[0m\u001b[0mTensor\u001b[0m\u001b[1;33m)\u001b[0m\u001b[1;33m:\u001b[0m\u001b[1;33m\u001b[0m\u001b[1;33m\u001b[0m\u001b[0m\n\u001b[1;32m--> 512\u001b[1;33m       \u001b[0mx\u001b[0m \u001b[1;33m=\u001b[0m \u001b[0mt\u001b[0m\u001b[1;33m.\u001b[0m\u001b[0mnumpy\u001b[0m\u001b[1;33m(\u001b[0m\u001b[1;33m)\u001b[0m\u001b[1;33m\u001b[0m\u001b[1;33m\u001b[0m\u001b[0m\n\u001b[0m\u001b[0;32m    513\u001b[0m       \u001b[1;32mreturn\u001b[0m \u001b[0mx\u001b[0m\u001b[1;33m.\u001b[0m\u001b[0mitem\u001b[0m\u001b[1;33m(\u001b[0m\u001b[1;33m)\u001b[0m \u001b[1;32mif\u001b[0m \u001b[0mnp\u001b[0m\u001b[1;33m.\u001b[0m\u001b[0mndim\u001b[0m\u001b[1;33m(\u001b[0m\u001b[0mx\u001b[0m\u001b[1;33m)\u001b[0m \u001b[1;33m==\u001b[0m \u001b[1;36m0\u001b[0m \u001b[1;32melse\u001b[0m \u001b[0mx\u001b[0m\u001b[1;33m\u001b[0m\u001b[1;33m\u001b[0m\u001b[0m\n\u001b[0;32m    514\u001b[0m     \u001b[1;32mreturn\u001b[0m \u001b[0mt\u001b[0m  \u001b[1;31m# Don't turn ragged or sparse tensors to NumPy.\u001b[0m\u001b[1;33m\u001b[0m\u001b[1;33m\u001b[0m\u001b[0m\n",
      "\u001b[1;32m~\\AppData\\Roaming\\Python\\Python37\\site-packages\\tensorflow\\python\\framework\\ops.py\u001b[0m in \u001b[0;36mnumpy\u001b[1;34m(self)\u001b[0m\n\u001b[0;32m   1092\u001b[0m     \"\"\"\n\u001b[0;32m   1093\u001b[0m     \u001b[1;31m# TODO(slebedev): Consider avoiding a copy for non-CPU or remote tensors.\u001b[0m\u001b[1;33m\u001b[0m\u001b[1;33m\u001b[0m\u001b[1;33m\u001b[0m\u001b[0m\n\u001b[1;32m-> 1094\u001b[1;33m     \u001b[0mmaybe_arr\u001b[0m \u001b[1;33m=\u001b[0m \u001b[0mself\u001b[0m\u001b[1;33m.\u001b[0m\u001b[0m_numpy\u001b[0m\u001b[1;33m(\u001b[0m\u001b[1;33m)\u001b[0m  \u001b[1;31m# pylint: disable=protected-access\u001b[0m\u001b[1;33m\u001b[0m\u001b[1;33m\u001b[0m\u001b[0m\n\u001b[0m\u001b[0;32m   1095\u001b[0m     \u001b[1;32mreturn\u001b[0m \u001b[0mmaybe_arr\u001b[0m\u001b[1;33m.\u001b[0m\u001b[0mcopy\u001b[0m\u001b[1;33m(\u001b[0m\u001b[1;33m)\u001b[0m \u001b[1;32mif\u001b[0m \u001b[0misinstance\u001b[0m\u001b[1;33m(\u001b[0m\u001b[0mmaybe_arr\u001b[0m\u001b[1;33m,\u001b[0m \u001b[0mnp\u001b[0m\u001b[1;33m.\u001b[0m\u001b[0mndarray\u001b[0m\u001b[1;33m)\u001b[0m \u001b[1;32melse\u001b[0m \u001b[0mmaybe_arr\u001b[0m\u001b[1;33m\u001b[0m\u001b[1;33m\u001b[0m\u001b[0m\n\u001b[0;32m   1096\u001b[0m \u001b[1;33m\u001b[0m\u001b[0m\n",
      "\u001b[1;32m~\\AppData\\Roaming\\Python\\Python37\\site-packages\\tensorflow\\python\\framework\\ops.py\u001b[0m in \u001b[0;36m_numpy\u001b[1;34m(self)\u001b[0m\n\u001b[0;32m   1058\u001b[0m   \u001b[1;32mdef\u001b[0m \u001b[0m_numpy\u001b[0m\u001b[1;33m(\u001b[0m\u001b[0mself\u001b[0m\u001b[1;33m)\u001b[0m\u001b[1;33m:\u001b[0m\u001b[1;33m\u001b[0m\u001b[1;33m\u001b[0m\u001b[0m\n\u001b[0;32m   1059\u001b[0m     \u001b[1;32mtry\u001b[0m\u001b[1;33m:\u001b[0m\u001b[1;33m\u001b[0m\u001b[1;33m\u001b[0m\u001b[0m\n\u001b[1;32m-> 1060\u001b[1;33m       \u001b[1;32mreturn\u001b[0m \u001b[0mself\u001b[0m\u001b[1;33m.\u001b[0m\u001b[0m_numpy_internal\u001b[0m\u001b[1;33m(\u001b[0m\u001b[1;33m)\u001b[0m\u001b[1;33m\u001b[0m\u001b[1;33m\u001b[0m\u001b[0m\n\u001b[0m\u001b[0;32m   1061\u001b[0m     \u001b[1;32mexcept\u001b[0m \u001b[0mcore\u001b[0m\u001b[1;33m.\u001b[0m\u001b[0m_NotOkStatusException\u001b[0m \u001b[1;32mas\u001b[0m \u001b[0me\u001b[0m\u001b[1;33m:\u001b[0m  \u001b[1;31m# pylint: disable=protected-access\u001b[0m\u001b[1;33m\u001b[0m\u001b[1;33m\u001b[0m\u001b[0m\n\u001b[0;32m   1062\u001b[0m       \u001b[0msix\u001b[0m\u001b[1;33m.\u001b[0m\u001b[0mraise_from\u001b[0m\u001b[1;33m(\u001b[0m\u001b[0mcore\u001b[0m\u001b[1;33m.\u001b[0m\u001b[0m_status_to_exception\u001b[0m\u001b[1;33m(\u001b[0m\u001b[0me\u001b[0m\u001b[1;33m.\u001b[0m\u001b[0mcode\u001b[0m\u001b[1;33m,\u001b[0m \u001b[0me\u001b[0m\u001b[1;33m.\u001b[0m\u001b[0mmessage\u001b[0m\u001b[1;33m)\u001b[0m\u001b[1;33m,\u001b[0m \u001b[1;32mNone\u001b[0m\u001b[1;33m)\u001b[0m  \u001b[1;31m# pylint: disable=protected-access\u001b[0m\u001b[1;33m\u001b[0m\u001b[1;33m\u001b[0m\u001b[0m\n",
      "\u001b[1;31mKeyboardInterrupt\u001b[0m: "
     ]
    }
   ],
   "source": [
    "t_model.fit(x=x_train, y=y_train, epochs=100, validation_data=(x_test, y_test))"
   ]
  },
  {
   "cell_type": "code",
   "execution_count": 147,
   "id": "f53c3ef5",
   "metadata": {},
   "outputs": [
    {
     "data": {
      "text/plain": [
       "(6, array([5.], dtype=float32))"
      ]
     },
     "execution_count": 147,
     "metadata": {},
     "output_type": "execute_result"
    }
   ],
   "source": [
    "t_model.predict(x_train[0].reshape(1,28,28,1)).argmax(), y_train[0]"
   ]
  },
  {
   "cell_type": "code",
   "execution_count": 157,
   "id": "98696913",
   "metadata": {
    "scrolled": true
   },
   "outputs": [
    {
     "name": "stdout",
     "output_type": "stream",
     "text": [
      "3 [5.]\n",
      "1 [5.]\n",
      "4 [9.]\n",
      "5 [1.]\n",
      "9 [4.]\n",
      "7 [2.]\n",
      "4 [7.]\n",
      "7 [9.]\n",
      "3 [0.]\n",
      "7 [9.]\n",
      "5 [9.]\n",
      "9 [4.]\n",
      "0 [4.]\n",
      "5 [0.]\n",
      "2 [1.]\n",
      "0 [9.]\n",
      "6 [2.]\n",
      "4 [9.]\n",
      "7 [2.]\n",
      "1 [5.]\n",
      "7 [9.]\n",
      "3 [1.]\n",
      "2 [5.]\n",
      "9 [7.]\n",
      "4 [7.]\n",
      "6 [4.]\n",
      "7 [9.]\n",
      "4 [7.]\n",
      "9 [8.]\n",
      "8 [2.]\n",
      "8 [7.]\n",
      "7 [9.]\n",
      "1 [5.]\n",
      "0 [2.]\n",
      "1 [2.]\n",
      "7 [3.]\n",
      "3 [5.]\n",
      "7 [9.]\n",
      "7 [3.]\n",
      "7 [1.]\n",
      "5 [8.]\n",
      "5 [3.]\n",
      "6 [0.]\n",
      "3 [5.]\n",
      "1 [8.]\n",
      "8 [5.]\n",
      "5 [0.]\n",
      "5 [3.]\n",
      "1 [6.]\n",
      "5 [2.]\n",
      "4 [9.]\n",
      "7 [2.]\n",
      "9 [4.]\n",
      "3 [5.]\n",
      "2 [5.]\n",
      "3 [5.]\n",
      "7 [5.]\n",
      "7 [9.]\n",
      "3 [5.]\n",
      "4 [9.]\n",
      "4 [9.]\n",
      "9 [7.]\n",
      "4 [9.]\n",
      "3 [9.]\n",
      "9 [4.]\n",
      "1 [7.]\n",
      "3 [2.]\n",
      "3 [8.]\n",
      "9 [4.]\n",
      "6 [4.]\n",
      "7 [5.]\n",
      "4 [8.]\n",
      "4 [9.]\n",
      "1 [2.]\n",
      "0 [7.]\n",
      "9 [3.]\n",
      "4 [9.]\n"
     ]
    },
    {
     "ename": "KeyboardInterrupt",
     "evalue": "",
     "output_type": "error",
     "traceback": [
      "\u001b[1;31m---------------------------------------------------------------------------\u001b[0m",
      "\u001b[1;31mKeyboardInterrupt\u001b[0m                         Traceback (most recent call last)",
      "\u001b[1;32m~\\AppData\\Local\\Temp/ipykernel_14156/3078479318.py\u001b[0m in \u001b[0;36m<module>\u001b[1;34m\u001b[0m\n\u001b[0;32m      1\u001b[0m \u001b[1;32mfor\u001b[0m \u001b[0mi\u001b[0m \u001b[1;32min\u001b[0m \u001b[0mrange\u001b[0m\u001b[1;33m(\u001b[0m\u001b[0mlen\u001b[0m\u001b[1;33m(\u001b[0m\u001b[0mx_train\u001b[0m\u001b[1;33m)\u001b[0m\u001b[1;33m)\u001b[0m\u001b[1;33m:\u001b[0m\u001b[1;33m\u001b[0m\u001b[1;33m\u001b[0m\u001b[0m\n\u001b[1;32m----> 2\u001b[1;33m     \u001b[1;32mif\u001b[0m\u001b[1;33m(\u001b[0m\u001b[0mt_model\u001b[0m\u001b[1;33m.\u001b[0m\u001b[0mpredict\u001b[0m\u001b[1;33m(\u001b[0m\u001b[0mx_train\u001b[0m\u001b[1;33m[\u001b[0m\u001b[0mi\u001b[0m\u001b[1;33m]\u001b[0m\u001b[1;33m.\u001b[0m\u001b[0mreshape\u001b[0m\u001b[1;33m(\u001b[0m\u001b[1;36m1\u001b[0m\u001b[1;33m,\u001b[0m\u001b[1;36m28\u001b[0m\u001b[1;33m,\u001b[0m\u001b[1;36m28\u001b[0m\u001b[1;33m,\u001b[0m\u001b[1;36m1\u001b[0m\u001b[1;33m)\u001b[0m\u001b[1;33m)\u001b[0m\u001b[1;33m.\u001b[0m\u001b[0margmax\u001b[0m\u001b[1;33m(\u001b[0m\u001b[1;33m)\u001b[0m \u001b[1;33m!=\u001b[0m \u001b[0my_train\u001b[0m\u001b[1;33m[\u001b[0m\u001b[0mi\u001b[0m\u001b[1;33m]\u001b[0m\u001b[1;33m)\u001b[0m\u001b[1;33m:\u001b[0m\u001b[1;33m\u001b[0m\u001b[1;33m\u001b[0m\u001b[0m\n\u001b[0m\u001b[0;32m      3\u001b[0m         \u001b[0mprint\u001b[0m\u001b[1;33m(\u001b[0m\u001b[0mt_model\u001b[0m\u001b[1;33m.\u001b[0m\u001b[0mpredict\u001b[0m\u001b[1;33m(\u001b[0m\u001b[0mx_train\u001b[0m\u001b[1;33m[\u001b[0m\u001b[0mi\u001b[0m\u001b[1;33m]\u001b[0m\u001b[1;33m.\u001b[0m\u001b[0mreshape\u001b[0m\u001b[1;33m(\u001b[0m\u001b[1;36m1\u001b[0m\u001b[1;33m,\u001b[0m\u001b[1;36m28\u001b[0m\u001b[1;33m,\u001b[0m\u001b[1;36m28\u001b[0m\u001b[1;33m,\u001b[0m\u001b[1;36m1\u001b[0m\u001b[1;33m)\u001b[0m\u001b[1;33m)\u001b[0m\u001b[1;33m.\u001b[0m\u001b[0margmax\u001b[0m\u001b[1;33m(\u001b[0m\u001b[1;33m)\u001b[0m\u001b[1;33m,\u001b[0m \u001b[0my_train\u001b[0m\u001b[1;33m[\u001b[0m\u001b[0mi\u001b[0m\u001b[1;33m]\u001b[0m\u001b[1;33m)\u001b[0m\u001b[1;33m\u001b[0m\u001b[1;33m\u001b[0m\u001b[0m\n",
      "\u001b[1;32mc:\\users\\karta\\appdata\\local\\programs\\python\\python37\\lib\\site-packages\\keras\\engine\\training.py\u001b[0m in \u001b[0;36mpredict\u001b[1;34m(self, x, batch_size, verbose, steps, callbacks, max_queue_size, workers, use_multiprocessing)\u001b[0m\n\u001b[0;32m   1728\u001b[0m           \u001b[0muse_multiprocessing\u001b[0m\u001b[1;33m=\u001b[0m\u001b[0muse_multiprocessing\u001b[0m\u001b[1;33m,\u001b[0m\u001b[1;33m\u001b[0m\u001b[1;33m\u001b[0m\u001b[0m\n\u001b[0;32m   1729\u001b[0m           \u001b[0mmodel\u001b[0m\u001b[1;33m=\u001b[0m\u001b[0mself\u001b[0m\u001b[1;33m,\u001b[0m\u001b[1;33m\u001b[0m\u001b[1;33m\u001b[0m\u001b[0m\n\u001b[1;32m-> 1730\u001b[1;33m           steps_per_execution=self._steps_per_execution)\n\u001b[0m\u001b[0;32m   1731\u001b[0m \u001b[1;33m\u001b[0m\u001b[0m\n\u001b[0;32m   1732\u001b[0m       \u001b[1;31m# Container that configures and calls `tf.keras.Callback`s.\u001b[0m\u001b[1;33m\u001b[0m\u001b[1;33m\u001b[0m\u001b[1;33m\u001b[0m\u001b[0m\n",
      "\u001b[1;32mc:\\users\\karta\\appdata\\local\\programs\\python\\python37\\lib\\site-packages\\keras\\engine\\data_adapter.py\u001b[0m in \u001b[0;36mget_data_handler\u001b[1;34m(*args, **kwargs)\u001b[0m\n\u001b[0;32m   1381\u001b[0m   \u001b[1;32mif\u001b[0m \u001b[0mgetattr\u001b[0m\u001b[1;33m(\u001b[0m\u001b[0mkwargs\u001b[0m\u001b[1;33m[\u001b[0m\u001b[1;34m\"model\"\u001b[0m\u001b[1;33m]\u001b[0m\u001b[1;33m,\u001b[0m \u001b[1;34m\"_cluster_coordinator\"\u001b[0m\u001b[1;33m,\u001b[0m \u001b[1;32mNone\u001b[0m\u001b[1;33m)\u001b[0m\u001b[1;33m:\u001b[0m\u001b[1;33m\u001b[0m\u001b[1;33m\u001b[0m\u001b[0m\n\u001b[0;32m   1382\u001b[0m     \u001b[1;32mreturn\u001b[0m \u001b[0m_ClusterCoordinatorDataHandler\u001b[0m\u001b[1;33m(\u001b[0m\u001b[1;33m*\u001b[0m\u001b[0margs\u001b[0m\u001b[1;33m,\u001b[0m \u001b[1;33m**\u001b[0m\u001b[0mkwargs\u001b[0m\u001b[1;33m)\u001b[0m\u001b[1;33m\u001b[0m\u001b[1;33m\u001b[0m\u001b[0m\n\u001b[1;32m-> 1383\u001b[1;33m   \u001b[1;32mreturn\u001b[0m \u001b[0mDataHandler\u001b[0m\u001b[1;33m(\u001b[0m\u001b[1;33m*\u001b[0m\u001b[0margs\u001b[0m\u001b[1;33m,\u001b[0m \u001b[1;33m**\u001b[0m\u001b[0mkwargs\u001b[0m\u001b[1;33m)\u001b[0m\u001b[1;33m\u001b[0m\u001b[1;33m\u001b[0m\u001b[0m\n\u001b[0m\u001b[0;32m   1384\u001b[0m \u001b[1;33m\u001b[0m\u001b[0m\n\u001b[0;32m   1385\u001b[0m \u001b[1;33m\u001b[0m\u001b[0m\n",
      "\u001b[1;32mc:\\users\\karta\\appdata\\local\\programs\\python\\python37\\lib\\site-packages\\keras\\engine\\data_adapter.py\u001b[0m in \u001b[0;36m__init__\u001b[1;34m(self, x, y, sample_weight, batch_size, steps_per_epoch, initial_epoch, epochs, shuffle, class_weight, max_queue_size, workers, use_multiprocessing, model, steps_per_execution, distribute)\u001b[0m\n\u001b[0;32m   1148\u001b[0m         \u001b[0muse_multiprocessing\u001b[0m\u001b[1;33m=\u001b[0m\u001b[0muse_multiprocessing\u001b[0m\u001b[1;33m,\u001b[0m\u001b[1;33m\u001b[0m\u001b[1;33m\u001b[0m\u001b[0m\n\u001b[0;32m   1149\u001b[0m         \u001b[0mdistribution_strategy\u001b[0m\u001b[1;33m=\u001b[0m\u001b[0mtf\u001b[0m\u001b[1;33m.\u001b[0m\u001b[0mdistribute\u001b[0m\u001b[1;33m.\u001b[0m\u001b[0mget_strategy\u001b[0m\u001b[1;33m(\u001b[0m\u001b[1;33m)\u001b[0m\u001b[1;33m,\u001b[0m\u001b[1;33m\u001b[0m\u001b[1;33m\u001b[0m\u001b[0m\n\u001b[1;32m-> 1150\u001b[1;33m         model=model)\n\u001b[0m\u001b[0;32m   1151\u001b[0m \u001b[1;33m\u001b[0m\u001b[0m\n\u001b[0;32m   1152\u001b[0m     \u001b[0mstrategy\u001b[0m \u001b[1;33m=\u001b[0m \u001b[0mtf\u001b[0m\u001b[1;33m.\u001b[0m\u001b[0mdistribute\u001b[0m\u001b[1;33m.\u001b[0m\u001b[0mget_strategy\u001b[0m\u001b[1;33m(\u001b[0m\u001b[1;33m)\u001b[0m\u001b[1;33m\u001b[0m\u001b[1;33m\u001b[0m\u001b[0m\n",
      "\u001b[1;32mc:\\users\\karta\\appdata\\local\\programs\\python\\python37\\lib\\site-packages\\keras\\engine\\data_adapter.py\u001b[0m in \u001b[0;36m__init__\u001b[1;34m(self, x, y, sample_weights, sample_weight_modes, batch_size, epochs, steps, shuffle, **kwargs)\u001b[0m\n\u001b[0;32m    320\u001b[0m     \u001b[0mindices_dataset\u001b[0m \u001b[1;33m=\u001b[0m \u001b[0mindices_dataset\u001b[0m\u001b[1;33m.\u001b[0m\u001b[0mflat_map\u001b[0m\u001b[1;33m(\u001b[0m\u001b[0mslice_batch_indices\u001b[0m\u001b[1;33m)\u001b[0m\u001b[1;33m\u001b[0m\u001b[1;33m\u001b[0m\u001b[0m\n\u001b[0;32m    321\u001b[0m \u001b[1;33m\u001b[0m\u001b[0m\n\u001b[1;32m--> 322\u001b[1;33m     \u001b[0mdataset\u001b[0m \u001b[1;33m=\u001b[0m \u001b[0mself\u001b[0m\u001b[1;33m.\u001b[0m\u001b[0mslice_inputs\u001b[0m\u001b[1;33m(\u001b[0m\u001b[0mindices_dataset\u001b[0m\u001b[1;33m,\u001b[0m \u001b[0minputs\u001b[0m\u001b[1;33m)\u001b[0m\u001b[1;33m\u001b[0m\u001b[1;33m\u001b[0m\u001b[0m\n\u001b[0m\u001b[0;32m    323\u001b[0m \u001b[1;33m\u001b[0m\u001b[0m\n\u001b[0;32m    324\u001b[0m     \u001b[1;32mif\u001b[0m \u001b[0mshuffle\u001b[0m \u001b[1;33m==\u001b[0m \u001b[1;34m\"batch\"\u001b[0m\u001b[1;33m:\u001b[0m\u001b[1;33m\u001b[0m\u001b[1;33m\u001b[0m\u001b[0m\n",
      "\u001b[1;32mc:\\users\\karta\\appdata\\local\\programs\\python\\python37\\lib\\site-packages\\keras\\engine\\data_adapter.py\u001b[0m in \u001b[0;36mslice_inputs\u001b[1;34m(self, indices_dataset, inputs)\u001b[0m\n\u001b[0;32m    346\u001b[0m     dataset = tf.data.Dataset.zip((\n\u001b[0;32m    347\u001b[0m         \u001b[0mindices_dataset\u001b[0m\u001b[1;33m,\u001b[0m\u001b[1;33m\u001b[0m\u001b[1;33m\u001b[0m\u001b[0m\n\u001b[1;32m--> 348\u001b[1;33m         \u001b[0mtf\u001b[0m\u001b[1;33m.\u001b[0m\u001b[0mdata\u001b[0m\u001b[1;33m.\u001b[0m\u001b[0mDataset\u001b[0m\u001b[1;33m.\u001b[0m\u001b[0mfrom_tensors\u001b[0m\u001b[1;33m(\u001b[0m\u001b[0minputs\u001b[0m\u001b[1;33m)\u001b[0m\u001b[1;33m.\u001b[0m\u001b[0mrepeat\u001b[0m\u001b[1;33m(\u001b[0m\u001b[1;33m)\u001b[0m\u001b[1;33m\u001b[0m\u001b[1;33m\u001b[0m\u001b[0m\n\u001b[0m\u001b[0;32m    349\u001b[0m     ))\n\u001b[0;32m    350\u001b[0m \u001b[1;33m\u001b[0m\u001b[0m\n",
      "\u001b[1;32m~\\AppData\\Roaming\\Python\\Python37\\site-packages\\tensorflow\\python\\data\\ops\\dataset_ops.py\u001b[0m in \u001b[0;36mfrom_tensors\u001b[1;34m(tensors)\u001b[0m\n\u001b[0;32m    604\u001b[0m       \u001b[0mDataset\u001b[0m\u001b[1;33m:\u001b[0m \u001b[0mA\u001b[0m\u001b[0;31m \u001b[0m\u001b[0;31m`\u001b[0m\u001b[0mDataset\u001b[0m\u001b[0;31m`\u001b[0m\u001b[1;33m.\u001b[0m\u001b[1;33m\u001b[0m\u001b[1;33m\u001b[0m\u001b[0m\n\u001b[0;32m    605\u001b[0m     \"\"\"\n\u001b[1;32m--> 606\u001b[1;33m     \u001b[1;32mreturn\u001b[0m \u001b[0mTensorDataset\u001b[0m\u001b[1;33m(\u001b[0m\u001b[0mtensors\u001b[0m\u001b[1;33m)\u001b[0m\u001b[1;33m\u001b[0m\u001b[1;33m\u001b[0m\u001b[0m\n\u001b[0m\u001b[0;32m    607\u001b[0m \u001b[1;33m\u001b[0m\u001b[0m\n\u001b[0;32m    608\u001b[0m   \u001b[1;33m@\u001b[0m\u001b[0mstaticmethod\u001b[0m\u001b[1;33m\u001b[0m\u001b[1;33m\u001b[0m\u001b[0m\n",
      "\u001b[1;32m~\\AppData\\Roaming\\Python\\Python37\\site-packages\\tensorflow\\python\\data\\ops\\dataset_ops.py\u001b[0m in \u001b[0;36m__init__\u001b[1;34m(self, element)\u001b[0m\n\u001b[0;32m   3829\u001b[0m     variant_tensor = gen_dataset_ops.tensor_dataset(\n\u001b[0;32m   3830\u001b[0m         \u001b[0mself\u001b[0m\u001b[1;33m.\u001b[0m\u001b[0m_tensors\u001b[0m\u001b[1;33m,\u001b[0m\u001b[1;33m\u001b[0m\u001b[1;33m\u001b[0m\u001b[0m\n\u001b[1;32m-> 3831\u001b[1;33m         output_shapes=structure.get_flat_tensor_shapes(self._structure))\n\u001b[0m\u001b[0;32m   3832\u001b[0m     \u001b[0msuper\u001b[0m\u001b[1;33m(\u001b[0m\u001b[0mTensorDataset\u001b[0m\u001b[1;33m,\u001b[0m \u001b[0mself\u001b[0m\u001b[1;33m)\u001b[0m\u001b[1;33m.\u001b[0m\u001b[0m__init__\u001b[0m\u001b[1;33m(\u001b[0m\u001b[0mvariant_tensor\u001b[0m\u001b[1;33m)\u001b[0m\u001b[1;33m\u001b[0m\u001b[1;33m\u001b[0m\u001b[0m\n\u001b[0;32m   3833\u001b[0m \u001b[1;33m\u001b[0m\u001b[0m\n",
      "\u001b[1;32m~\\AppData\\Roaming\\Python\\Python37\\site-packages\\tensorflow\\python\\ops\\gen_dataset_ops.py\u001b[0m in \u001b[0;36mtensor_dataset\u001b[1;34m(components, output_shapes, name)\u001b[0m\n\u001b[0;32m   7038\u001b[0m       _result = pywrap_tfe.TFE_Py_FastPathExecute(\n\u001b[0;32m   7039\u001b[0m         \u001b[0m_ctx\u001b[0m\u001b[1;33m,\u001b[0m \u001b[1;34m\"TensorDataset\"\u001b[0m\u001b[1;33m,\u001b[0m \u001b[0mname\u001b[0m\u001b[1;33m,\u001b[0m \u001b[0mcomponents\u001b[0m\u001b[1;33m,\u001b[0m \u001b[1;34m\"output_shapes\"\u001b[0m\u001b[1;33m,\u001b[0m\u001b[1;33m\u001b[0m\u001b[1;33m\u001b[0m\u001b[0m\n\u001b[1;32m-> 7040\u001b[1;33m         output_shapes)\n\u001b[0m\u001b[0;32m   7041\u001b[0m       \u001b[1;32mreturn\u001b[0m \u001b[0m_result\u001b[0m\u001b[1;33m\u001b[0m\u001b[1;33m\u001b[0m\u001b[0m\n\u001b[0;32m   7042\u001b[0m     \u001b[1;32mexcept\u001b[0m \u001b[0m_core\u001b[0m\u001b[1;33m.\u001b[0m\u001b[0m_NotOkStatusException\u001b[0m \u001b[1;32mas\u001b[0m \u001b[0me\u001b[0m\u001b[1;33m:\u001b[0m\u001b[1;33m\u001b[0m\u001b[1;33m\u001b[0m\u001b[0m\n",
      "\u001b[1;31mKeyboardInterrupt\u001b[0m: "
     ]
    }
   ],
   "source": [
    "for i in range(len(x_train)):\n",
    "    if(t_model.predict(x_train[i].reshape(1,28,28,1)).argmax() != y_train[i]):\n",
    "        print(t_model.predict(x_train[i].reshape(1,28,28,1)).argmax(), y_train[i])"
   ]
  },
  {
   "cell_type": "code",
   "execution_count": null,
   "id": "b1772621",
   "metadata": {},
   "outputs": [],
   "source": []
  }
 ],
 "metadata": {
  "kernelspec": {
   "display_name": "Python 3 (ipykernel)",
   "language": "python",
   "name": "python3"
  },
  "language_info": {
   "codemirror_mode": {
    "name": "ipython",
    "version": 3
   },
   "file_extension": ".py",
   "mimetype": "text/x-python",
   "name": "python",
   "nbconvert_exporter": "python",
   "pygments_lexer": "ipython3",
   "version": "3.7.9"
  }
 },
 "nbformat": 4,
 "nbformat_minor": 5
}
